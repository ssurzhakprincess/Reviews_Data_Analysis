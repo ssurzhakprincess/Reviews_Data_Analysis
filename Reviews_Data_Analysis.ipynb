{
 "cells": [
  {
   "cell_type": "code",
   "execution_count": 1,
   "id": "aa1dce0d",
   "metadata": {},
   "outputs": [],
   "source": [
    "# Imports\n",
    "\n",
    "import numpy as np\n",
    "import pandas as pd\n",
    "from sklearn.linear_model import LogisticRegression\n",
    "import matplotlib.pyplot as plt\n",
    "import seaborn as sns\n",
    "\n",
    "\n",
    "\n",
    "# load data\n",
    "data = pd.read_csv('Womens_Clothing_E-Commerce_Reviews.csv')\n",
    "data = data.dropna(subset=['Review Text', 'Recommended IND'])"
   ]
  },
  {
   "cell_type": "code",
   "execution_count": 2,
   "id": "71037a0a",
   "metadata": {},
   "outputs": [
    {
     "data": {
      "text/html": [
       "<div>\n",
       "<style scoped>\n",
       "    .dataframe tbody tr th:only-of-type {\n",
       "        vertical-align: middle;\n",
       "    }\n",
       "\n",
       "    .dataframe tbody tr th {\n",
       "        vertical-align: top;\n",
       "    }\n",
       "\n",
       "    .dataframe thead th {\n",
       "        text-align: right;\n",
       "    }\n",
       "</style>\n",
       "<table border=\"1\" class=\"dataframe\">\n",
       "  <thead>\n",
       "    <tr style=\"text-align: right;\">\n",
       "      <th></th>\n",
       "      <th>Unnamed: 0</th>\n",
       "      <th>Clothing ID</th>\n",
       "      <th>Age</th>\n",
       "      <th>Title</th>\n",
       "      <th>Review Text</th>\n",
       "      <th>Rating</th>\n",
       "      <th>Recommended IND</th>\n",
       "      <th>Positive Feedback Count</th>\n",
       "      <th>Division Name</th>\n",
       "      <th>Department Name</th>\n",
       "      <th>Class Name</th>\n",
       "    </tr>\n",
       "  </thead>\n",
       "  <tbody>\n",
       "    <tr>\n",
       "      <th>0</th>\n",
       "      <td>0</td>\n",
       "      <td>767</td>\n",
       "      <td>33</td>\n",
       "      <td>NaN</td>\n",
       "      <td>Absolutely wonderful - silky and sexy and comf...</td>\n",
       "      <td>4</td>\n",
       "      <td>1</td>\n",
       "      <td>0</td>\n",
       "      <td>Initmates</td>\n",
       "      <td>Intimate</td>\n",
       "      <td>Intimates</td>\n",
       "    </tr>\n",
       "    <tr>\n",
       "      <th>1</th>\n",
       "      <td>1</td>\n",
       "      <td>1080</td>\n",
       "      <td>34</td>\n",
       "      <td>NaN</td>\n",
       "      <td>Love this dress!  it's sooo pretty.  i happene...</td>\n",
       "      <td>5</td>\n",
       "      <td>1</td>\n",
       "      <td>4</td>\n",
       "      <td>General</td>\n",
       "      <td>Dresses</td>\n",
       "      <td>Dresses</td>\n",
       "    </tr>\n",
       "    <tr>\n",
       "      <th>2</th>\n",
       "      <td>2</td>\n",
       "      <td>1077</td>\n",
       "      <td>60</td>\n",
       "      <td>Some major design flaws</td>\n",
       "      <td>I had such high hopes for this dress and reall...</td>\n",
       "      <td>3</td>\n",
       "      <td>0</td>\n",
       "      <td>0</td>\n",
       "      <td>General</td>\n",
       "      <td>Dresses</td>\n",
       "      <td>Dresses</td>\n",
       "    </tr>\n",
       "  </tbody>\n",
       "</table>\n",
       "</div>"
      ],
      "text/plain": [
       "   Unnamed: 0  Clothing ID  Age                    Title  \\\n",
       "0           0          767   33                      NaN   \n",
       "1           1         1080   34                      NaN   \n",
       "2           2         1077   60  Some major design flaws   \n",
       "\n",
       "                                         Review Text  Rating  Recommended IND  \\\n",
       "0  Absolutely wonderful - silky and sexy and comf...       4                1   \n",
       "1  Love this dress!  it's sooo pretty.  i happene...       5                1   \n",
       "2  I had such high hopes for this dress and reall...       3                0   \n",
       "\n",
       "   Positive Feedback Count Division Name Department Name Class Name  \n",
       "0                        0     Initmates        Intimate  Intimates  \n",
       "1                        4       General         Dresses    Dresses  \n",
       "2                        0       General         Dresses    Dresses  "
      ]
     },
     "execution_count": 2,
     "metadata": {},
     "output_type": "execute_result"
    }
   ],
   "source": [
    "data.head(3)"
   ]
  },
  {
   "cell_type": "code",
   "execution_count": 3,
   "id": "e375ba99",
   "metadata": {},
   "outputs": [],
   "source": [
    "# Goal: predict if a product was recommented or not by a custumer based on their review text."
   ]
  },
  {
   "cell_type": "code",
   "execution_count": 4,
   "id": "f9aaa428",
   "metadata": {},
   "outputs": [],
   "source": [
    "# shuffling for better accuracy\n",
    "def shuffling(training_images, labels):\n",
    "    np.random.seed(1111) \n",
    "    ind_shuffled = np.random.permutation(len(training_images))\n",
    "\n",
    "    images_shuffled = [training_images[i] for i in ind_shuffled]\n",
    "    labels_shuffled = [labels[i] for i in ind_shuffled] # shuffle labels in the same order\n",
    "    return np.array(images_shuffled), np.array(labels_shuffled)\n",
    "\n",
    "# splitting data into train and validation\n",
    "def partitioning(shuffled_training_images, shuffled_training_labels):\n",
    "    \n",
    "    num_valid = int((len(shuffled_training_images))/ 100)*20 # set aside 20% for validation\n",
    "\n",
    "    images_valid = shuffled_training_images[0:num_valid]\n",
    "    labels_valid = shuffled_training_labels[0:num_valid]\n",
    "\n",
    "    images_train = shuffled_training_images[num_valid:]\n",
    "    labels_train = shuffled_training_labels[num_valid:]\n",
    "\n",
    "    return np.array(images_valid), np.array(labels_valid), np.array(images_train), np.array(labels_train)\n",
    "\n",
    "\n",
    "# function for checking accuracy\n",
    "def evaluation_metric(true_labels, predicted_labels):\n",
    "    n = len(true_labels)\n",
    "    s = (1/n) * np.sum(true_labels == predicted_labels)\n",
    "    return s\n",
    "\n",
    "def words_in_texts(words, texts):\n",
    "    # Convert each review text to lowercase before checking for word presence\n",
    "    indicator_array = np.array([texts.str.lower().str.contains(word.lower(), case=False, na=False) for word in words]).T.astype(int)\n",
    "    return indicator_array"
   ]
  },
  {
   "cell_type": "code",
   "execution_count": 5,
   "id": "96a828b4",
   "metadata": {},
   "outputs": [],
   "source": [
    "# Shuffle and partition the data\n",
    "data_text_shuffled, data_labels_shuffled = shuffling(data['Review Text'].values, data['Recommended IND'].values)\n",
    "text_validation, labels_validation, text_train, labels_train = partitioning(data_text_shuffled, data_labels_shuffled)"
   ]
  },
  {
   "cell_type": "code",
   "execution_count": 6,
   "id": "21e05dfb",
   "metadata": {},
   "outputs": [
    {
     "data": {
      "image/png": "[encoded data removed]",
      "text/plain": [
       "<Figure size 1000x600 with 1 Axes>"
      ]
     },
     "metadata": {},
     "output_type": "display_data"
    }
   ],
   "source": [
    "# Words for the bar plot\n",
    "\n",
    "selected_words_bar = ['cheap', 'itchy', 'why', 'return', 'look', 'beautiful', 'go-to', 'not worth', 'quality'] # Generate features for the bar plot\n",
    "\n",
    "\n",
    "indicator_data = pd.DataFrame(words_in_texts(selected_words_bar, data['Review Text']), columns=selected_words_bar)\n",
    "indicator_data['Recommended'] = data['Recommended IND'].replace({1: 'Recommended', 0: 'Not Recommended'})\n",
    "\n",
    "# Melt the DataFrame for the bar plot\n",
    "melted_data = indicator_data.melt('Recommended', var_name='Words', value_name='Presence')\n",
    "\n",
    "# Calculate proportions for the bar plot\n",
    "word_proportions = (\n",
    "    melted_data\n",
    "    .groupby(['Words', 'Recommended'])\n",
    "    .mean()\n",
    "    .reset_index()\n",
    ")\n",
    "\n",
    "# Plot the bar plot\n",
    "plt.figure(figsize=(10, 6))\n",
    "sns.barplot(data=word_proportions, x='Words', y='Presence', hue='Recommended')\n",
    "plt.xlabel(\"Words\")\n",
    "plt.ylabel(\"Proportion of Reviews Containing Word\")\n",
    "plt.title(\"Frequency of Words in Recommended/Not Recommended Review Texts\")\n",
    "plt.tight_layout()\n",
    "plt.show()"
   ]
  },
  {
   "cell_type": "code",
   "execution_count": 7,
   "id": "59241319",
   "metadata": {},
   "outputs": [],
   "source": [
    "# Words for the model\n",
    "selected_words_model = ['cheap', 'itchy', 'why', 'return', 'look', 'beautiful', 'go-to', 'not worth', 'quality']  # You can change this list as needed"
   ]
  },
  {
   "cell_type": "code",
   "execution_count": 8,
   "id": "3e2fa67e",
   "metadata": {},
   "outputs": [
    {
     "name": "stdout",
     "output_type": "stream",
     "text": [
      "Training Accuracy: 0.8292036863307765\n",
      "Validation Accuracy: 0.831858407079646\n"
     ]
    }
   ],
   "source": [
    "# Create feature matrices for the model training and predictions\n",
    "\n",
    "X_train = words_in_texts(selected_words_model, pd.Series(text_train))\n",
    "X_train = pd.DataFrame(X_train, columns=selected_words_model)\n",
    "Y_train = np.array(labels_train)\n",
    "\n",
    "\n",
    "X_validation = words_in_texts(selected_words_model, pd.Series(text_validation))\n",
    "X_validation = pd.DataFrame(X_validation, columns=selected_words_model)\n",
    "Y_validation = np.array(labels_validation)\n",
    "\n",
    "\n",
    "# Initialize and train the logistic regression model\n",
    "model = LogisticRegression(max_iter=1000)\n",
    "model.fit(X_train, Y_train)\n",
    "\n",
    "# Predictions and evaluation on training data\n",
    "train_predictions = model.predict(X_train)\n",
    "training_accuracy = evaluation_metric(Y_train, train_predictions)\n",
    "print(f\"Training Accuracy: {training_accuracy}\")\n",
    "\n",
    "# Predictions and evaluation on validation data\n",
    "validation_predictions = model.predict(X_validation)\n",
    "validation_accuracy = evaluation_metric(Y_validation, validation_predictions)\n",
    "print(f\"Validation Accuracy: {validation_accuracy}\")"
   ]
  },
  {
   "cell_type": "code",
   "execution_count": null,
   "id": "66bf799a",
   "metadata": {},
   "outputs": [],
   "source": []
  }
 ],
 "metadata": {
  "kernelspec": {
   "display_name": "Python 3 (ipykernel)",
   "language": "python",
   "name": "python3"
  },
  "language_info": {
   "codemirror_mode": {
    "name": "ipython",
    "version": 3
   },
   "file_extension": ".py",
   "mimetype": "text/x-python",
   "name": "python",
   "nbconvert_exporter": "python",
   "pygments_lexer": "ipython3",
   "version": "3.11.4"
  }
 },
 "nbformat": 4,
 "nbformat_minor": 5
}
