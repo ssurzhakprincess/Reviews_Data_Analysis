{
 "cells": [
  {
   "cell_type": "code",
   "execution_count": 1,
   "id": "38031e30",
   "metadata": {},
   "outputs": [],
   "source": [
    "#imports\n",
    "\n",
    "import numpy as np\n",
    "import pandas as pd\n",
    "from sklearn.model_selection import train_test_split\n",
    "from sklearn.svm import SVC\n",
    "from sklearn.metrics import accuracy_score\n",
    "from sklearn.preprocessing import StandardScaler\n",
    "from collections import defaultdict"
   ]
  },
  {
   "cell_type": "code",
   "execution_count": 2,
   "id": "2f94fe95",
   "metadata": {},
   "outputs": [],
   "source": [
    "# Load data\n",
    "data_path = 'Womens_Clothing_E-Commerce_Reviews.csv'\n",
    "data = pd.read_csv(data_path)\n",
    "data = data.dropna(subset=['Review Text', 'Recommended IND'])"
   ]
  },
  {
   "cell_type": "code",
   "execution_count": 3,
   "id": "6b295b91",
   "metadata": {},
   "outputs": [],
   "source": [
    "\n",
    "def feature_extraction(text):\n",
    "    # Lowercase the text to standardize it\n",
    "    text = text.lower()\n",
    "    features = defaultdict(float)\n",
    "    \n",
    "    # Update features to check for presence instead of count\n",
    "    features['contains_cheap'] = 1 if 'cheap' in text else 0\n",
    "    features['contains_itchy'] = 1 if 'itchy' in text else 0\n",
    "    features['contains_why'] = 1 if 'why' in text else 0\n",
    "    features['contains_return'] = 1 if 'return' in text else 0\n",
    "    features['contains_look'] = 1 if 'look' in text else 0\n",
    "    features['contains_beautiful'] = 1 if 'beautiful' in text else 0\n",
    "    features['contains_go-to'] = 1 if 'go-to' in text else 0\n",
    "    features['contains_not_worth'] = 1 if 'not worth' in text else 0\n",
    "    features['contains_quality'] = 1 if 'quality' in text else 0\n",
    "    \n",
    "    # Convert features to a list in a consistent order\n",
    "    feature_vector = [\n",
    "        features['contains_cheap'],\n",
    "        features['contains_itchy'],\n",
    "        features['contains_why'],\n",
    "        features['contains_return'],\n",
    "        features['contains_look'],\n",
    "        features['contains_beautiful'],\n",
    "        features['contains_go-to'],\n",
    "        features['contains_not_worth'],\n",
    "        features['contains_quality']\n",
    "    ]\n",
    "    return feature_vector"
   ]
  },
  {
   "cell_type": "code",
   "execution_count": 4,
   "id": "b85a89a3",
   "metadata": {},
   "outputs": [
    {
     "name": "stdout",
     "output_type": "stream",
     "text": [
      "Training Accuracy: 0.8251987632508834\n",
      "Test Accuracy: 0.8302053433429013\n"
     ]
    }
   ],
   "source": [
    "# Apply feature extraction to each review\n",
    "features = np.array(list(data['Review Text'].apply(feature_extraction)))\n",
    "\n",
    "# Labels\n",
    "labels = data['Recommended IND'].values\n",
    "\n",
    "# Split the data\n",
    "X_train, X_test, y_train, y_test = train_test_split(features, labels, test_size=0.2, random_state=42)\n",
    "\n",
    "# Scale the features\n",
    "scaler = StandardScaler()\n",
    "X_train_scaled = scaler.fit_transform(X_train)\n",
    "X_test_scaled = scaler.transform(X_test)\n",
    "\n",
    "# Train the SVM model\n",
    "model = SVC(kernel='linear', C=0.01)\n",
    "model.fit(X_train_scaled, y_train)\n",
    "\n",
    "# Predict and evaluate the model\n",
    "y_pred_train = model.predict(X_train_scaled)\n",
    "y_pred_test = model.predict(X_test_scaled)\n",
    "\n",
    "print(f\"Training Accuracy: {accuracy_score(y_train, y_pred_train)}\")\n",
    "print(f\"Test Accuracy: {accuracy_score(y_test, y_pred_test)}\")"
   ]
  },
  {
   "cell_type": "code",
   "execution_count": 5,
   "id": "5d21bf10",
   "metadata": {},
   "outputs": [],
   "source": [
    "# F1 score with accuracy_score\n",
    "# F1 precision and recall (read)"
   ]
  },
  {
   "cell_type": "code",
   "execution_count": null,
   "id": "89d5e651",
   "metadata": {},
   "outputs": [],
   "source": []
  }
 ],
 "metadata": {
  "kernelspec": {
   "display_name": "Python 3 (ipykernel)",
   "language": "python",
   "name": "python3"
  },
  "language_info": {
   "codemirror_mode": {
    "name": "ipython",
    "version": 3
   },
   "file_extension": ".py",
   "mimetype": "text/x-python",
   "name": "python",
   "nbconvert_exporter": "python",
   "pygments_lexer": "ipython3",
   "version": "3.11.4"
  }
 },
 "nbformat": 4,
 "nbformat_minor": 5
}
