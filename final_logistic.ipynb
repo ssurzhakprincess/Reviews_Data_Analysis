{
 "cells": [
  {
   "cell_type": "code",
   "execution_count": 104,
   "id": "9a99d6a5",
   "metadata": {},
   "outputs": [],
   "source": [
    "# Imports\n",
    "import pandas as pd\n",
    "from sklearn.feature_extraction.text import TfidfVectorizer\n",
    "from sklearn.linear_model import LogisticRegression\n",
    "from sklearn.metrics import accuracy_score, precision_recall_curve, auc\n",
    "from sklearn.model_selection import train_test_split\n",
    "from scipy.sparse import hstack  # To stack sparse matrices horizontally\n",
    "import matplotlib.pyplot as plt"
   ]
  },
  {
   "cell_type": "code",
   "execution_count": 105,
   "id": "3213abdf",
   "metadata": {},
   "outputs": [
    {
     "data": {
      "text/html": [
       "<div>\n",
       "<style scoped>\n",
       "    .dataframe tbody tr th:only-of-type {\n",
       "        vertical-align: middle;\n",
       "    }\n",
       "\n",
       "    .dataframe tbody tr th {\n",
       "        vertical-align: top;\n",
       "    }\n",
       "\n",
       "    .dataframe thead th {\n",
       "        text-align: right;\n",
       "    }\n",
       "</style>\n",
       "<table border=\"1\" class=\"dataframe\">\n",
       "  <thead>\n",
       "    <tr style=\"text-align: right;\">\n",
       "      <th></th>\n",
       "      <th>Unnamed: 0</th>\n",
       "      <th>text</th>\n",
       "      <th>PHISH-GT</th>\n",
       "      <th>billing</th>\n",
       "      <th>account</th>\n",
       "      <th>generic</th>\n",
       "      <th>attachment</th>\n",
       "      <th>typos</th>\n",
       "      <th>click-link</th>\n",
       "      <th>grammar</th>\n",
       "      <th>login</th>\n",
       "      <th>urgency</th>\n",
       "      <th>phish</th>\n",
       "      <th>unsolicited</th>\n",
       "      <th>work</th>\n",
       "    </tr>\n",
       "  </thead>\n",
       "  <tbody>\n",
       "    <tr>\n",
       "      <th>0</th>\n",
       "      <td>42</td>\n",
       "      <td>Please take a look at the attached and give me...</td>\n",
       "      <td>0</td>\n",
       "      <td>0.0</td>\n",
       "      <td>0.0</td>\n",
       "      <td>0.0</td>\n",
       "      <td>1.0</td>\n",
       "      <td>0.0</td>\n",
       "      <td>0.0</td>\n",
       "      <td>1.0</td>\n",
       "      <td>0.0</td>\n",
       "      <td>0.0</td>\n",
       "      <td>0.0</td>\n",
       "      <td>0.0</td>\n",
       "      <td>1.0</td>\n",
       "    </tr>\n",
       "    <tr>\n",
       "      <th>1</th>\n",
       "      <td>44</td>\n",
       "      <td>Rod,\\nI wanted to forward this to you.  Arthur...</td>\n",
       "      <td>0</td>\n",
       "      <td>0.0</td>\n",
       "      <td>0.0</td>\n",
       "      <td>0.0</td>\n",
       "      <td>0.0</td>\n",
       "      <td>0.0</td>\n",
       "      <td>1.0</td>\n",
       "      <td>0.0</td>\n",
       "      <td>0.0</td>\n",
       "      <td>0.0</td>\n",
       "      <td>0.0</td>\n",
       "      <td>0.0</td>\n",
       "      <td>1.0</td>\n",
       "    </tr>\n",
       "    <tr>\n",
       "      <th>2</th>\n",
       "      <td>45</td>\n",
       "      <td>\\nI confirmed that since Enron does not deviat...</td>\n",
       "      <td>0</td>\n",
       "      <td>0.0</td>\n",
       "      <td>0.0</td>\n",
       "      <td>0.0</td>\n",
       "      <td>1.0</td>\n",
       "      <td>0.0</td>\n",
       "      <td>0.0</td>\n",
       "      <td>0.0</td>\n",
       "      <td>0.0</td>\n",
       "      <td>0.0</td>\n",
       "      <td>0.0</td>\n",
       "      <td>0.0</td>\n",
       "      <td>1.0</td>\n",
       "    </tr>\n",
       "    <tr>\n",
       "      <th>3</th>\n",
       "      <td>46</td>\n",
       "      <td>Good afternoon.\\n\\nI wanted to forward you one...</td>\n",
       "      <td>0</td>\n",
       "      <td>0.0</td>\n",
       "      <td>0.0</td>\n",
       "      <td>0.0</td>\n",
       "      <td>0.0</td>\n",
       "      <td>0.0</td>\n",
       "      <td>0.0</td>\n",
       "      <td>1.0</td>\n",
       "      <td>0.0</td>\n",
       "      <td>0.0</td>\n",
       "      <td>0.0</td>\n",
       "      <td>0.0</td>\n",
       "      <td>1.0</td>\n",
       "    </tr>\n",
       "    <tr>\n",
       "      <th>4</th>\n",
       "      <td>47</td>\n",
       "      <td>Kim:\\n\\nHere is a summary of the structure we ...</td>\n",
       "      <td>0</td>\n",
       "      <td>0.0</td>\n",
       "      <td>0.0</td>\n",
       "      <td>0.0</td>\n",
       "      <td>0.0</td>\n",
       "      <td>0.0</td>\n",
       "      <td>0.0</td>\n",
       "      <td>1.0</td>\n",
       "      <td>0.0</td>\n",
       "      <td>0.0</td>\n",
       "      <td>0.0</td>\n",
       "      <td>0.0</td>\n",
       "      <td>1.0</td>\n",
       "    </tr>\n",
       "  </tbody>\n",
       "</table>\n",
       "</div>"
      ],
      "text/plain": [
       "   Unnamed: 0                                               text  PHISH-GT  \\\n",
       "0          42  Please take a look at the attached and give me...         0   \n",
       "1          44  Rod,\\nI wanted to forward this to you.  Arthur...         0   \n",
       "2          45  \\nI confirmed that since Enron does not deviat...         0   \n",
       "3          46  Good afternoon.\\n\\nI wanted to forward you one...         0   \n",
       "4          47  Kim:\\n\\nHere is a summary of the structure we ...         0   \n",
       "\n",
       "   billing  account  generic  attachment  typos  click-link  grammar  login  \\\n",
       "0      0.0      0.0      0.0         1.0    0.0         0.0      1.0    0.0   \n",
       "1      0.0      0.0      0.0         0.0    0.0         1.0      0.0    0.0   \n",
       "2      0.0      0.0      0.0         1.0    0.0         0.0      0.0    0.0   \n",
       "3      0.0      0.0      0.0         0.0    0.0         0.0      1.0    0.0   \n",
       "4      0.0      0.0      0.0         0.0    0.0         0.0      1.0    0.0   \n",
       "\n",
       "   urgency  phish  unsolicited  work  \n",
       "0      0.0    0.0          0.0   1.0  \n",
       "1      0.0    0.0          0.0   1.0  \n",
       "2      0.0    0.0          0.0   1.0  \n",
       "3      0.0    0.0          0.0   1.0  \n",
       "4      0.0    0.0          0.0   1.0  "
      ]
     },
     "execution_count": 105,
     "metadata": {},
     "output_type": "execute_result"
    }
   ],
   "source": [
    "data = pd.read_csv('phish.csv')\n",
    "data = data.dropna(subset=['text', 'PHISH-GT'])\n",
    "data.head()"
   ]
  },
  {
   "cell_type": "code",
   "execution_count": null,
   "id": "6dcc56fd",
   "metadata": {},
   "outputs": [],
   "source": []
  },
  {
   "cell_type": "code",
   "execution_count": 106,
   "id": "0d76c2ab",
   "metadata": {},
   "outputs": [],
   "source": [
    "# Predicting 'PHISH-GT' based on 'text'"
   ]
  },
  {
   "cell_type": "code",
   "execution_count": 107,
   "id": "b2c2b05e",
   "metadata": {},
   "outputs": [],
   "source": [
    "X = data['text']\n",
    "y = data['PHISH-GT']\n",
    "\n",
    "# Split data into training and testing sets\n",
    "X_train_text, X_test_text, y_train_text, y_test_text = train_test_split(X, y, test_size=0.2, train_size=0.8, random_state=42)\n"
   ]
  },
  {
   "cell_type": "code",
   "execution_count": 108,
   "id": "60643f7c",
   "metadata": {},
   "outputs": [],
   "source": [
    "# Vectorize the text data with TF-IDF\n",
    "vectorizer = TfidfVectorizer()\n",
    "X_train_tfidf = vectorizer.fit_transform(X_train_text)\n",
    "X_test_tfidf = vectorizer.transform(X_test_text)"
   ]
  },
  {
   "cell_type": "code",
   "execution_count": 109,
   "id": "b0a1ee1d",
   "metadata": {},
   "outputs": [],
   "source": [
    "# Initialize and train the Logistic Regression model\n",
    "model = LogisticRegression()\n",
    "model.fit(X_train_tfidf, y_train_text)\n",
    "\n",
    "# Predict the test set results\n",
    "y_pred_text = model.predict(X_test_tfidf)"
   ]
  },
  {
   "cell_type": "code",
   "execution_count": 111,
   "id": "d63f6a7f",
   "metadata": {},
   "outputs": [
    {
     "name": "stdout",
     "output_type": "stream",
     "text": [
      "Accuracy of predicting 'PHISH-GT' based on 'text': 0.98\n"
     ]
    }
   ],
   "source": [
    "# Calculate accuracy\n",
    "accuracy = accuracy_score(y_test_text, y_pred_text)\n",
    "print(f\"Accuracy of predicting 'PHISH-GT' based on 'text': {accuracy:.2f}\")\n",
    "\n",
    "# Calculate precision and recall for the model\n",
    "precision_text, recall_text, thresholds_text = precision_recall_curve(y_test, model.predict_proba(X_test_tfidf)[:, 1])\n",
    "pr_auc = auc(recall, precision)"
   ]
  },
  {
   "cell_type": "code",
   "execution_count": null,
   "id": "e1127ccc",
   "metadata": {},
   "outputs": [],
   "source": []
  },
  {
   "cell_type": "code",
   "execution_count": 112,
   "id": "320cff2f",
   "metadata": {},
   "outputs": [],
   "source": [
    "# Predicting 'PHISH-GT' based on 12 noisy labels"
   ]
  },
  {
   "cell_type": "code",
   "execution_count": 113,
   "id": "06602573",
   "metadata": {},
   "outputs": [],
   "source": [
    "X_binary = data[['billing', 'account', 'generic', 'attachment', 'typos', 'click-link', 'grammar', \n",
    "                 'login', 'urgency', 'phish', 'unsolicited', 'work']]\n",
    "y_binary = data['PHISH-GT']"
   ]
  },
  {
   "cell_type": "code",
   "execution_count": 114,
   "id": "89dce182",
   "metadata": {},
   "outputs": [],
   "source": [
    "# Split data into training and testing sets for binary data\n",
    "X_train_binary, X_test_binary, y_train_binary, y_test_binary = train_test_split(X_binary, y_binary, test_size=0.2, train_size=0.8, random_state=42)\n"
   ]
  },
  {
   "cell_type": "code",
   "execution_count": 116,
   "id": "27279308",
   "metadata": {},
   "outputs": [
    {
     "name": "stdout",
     "output_type": "stream",
     "text": [
      "Accuracy of predicting 'PHISH-GT' based on 12 noisy labels: 0.94\n"
     ]
    }
   ],
   "source": [
    "# Initialize and train the Logistic Regression model for binary data\n",
    "model_binary = LogisticRegression()\n",
    "model_binary.fit(X_train_binary, y_train_binary)\n",
    "\n",
    "# Predict the test set results\n",
    "y_pred_binary = model_binary.predict(X_test_binary)\n",
    "\n",
    "# Calculate accuracy for the binary model\n",
    "accuracy_binary = accuracy_score(y_test_binary, y_pred_binary)\n",
    "print(f\"Accuracy of predicting 'PHISH-GT' based on 12 noisy labels: {accuracy_binary:.2f}\")\n",
    "\n",
    "# Calculate precision and recall for the binary model\n",
    "precision_binary, recall_binary, _ = precision_recall_curve(y_test_binary, model_binary.predict_proba(X_test_binary)[:, 1])\n",
    "pr_auc_binary = auc(recall_binary, precision_binary)"
   ]
  },
  {
   "cell_type": "code",
   "execution_count": null,
   "id": "afbafe1f",
   "metadata": {},
   "outputs": [],
   "source": []
  },
  {
   "cell_type": "code",
   "execution_count": 117,
   "id": "b1b5265c",
   "metadata": {},
   "outputs": [],
   "source": [
    "# Predicting 'PHISH-GT' based on BOTH 'text' and 12 noisy labels"
   ]
  },
  {
   "cell_type": "code",
   "execution_count": 118,
   "id": "f0332caf",
   "metadata": {},
   "outputs": [],
   "source": [
    "# Split data into text, binary features and target\n",
    "X_text = data['text']\n",
    "X_binary = data[['billing', 'account', 'generic', 'attachment', 'typos', 'click-link', 'grammar', 'login', 'urgency', 'phish', 'unsolicited', 'work']]\n",
    "y = data['PHISH-GT']"
   ]
  },
  {
   "cell_type": "code",
   "execution_count": 119,
   "id": "fe08820b",
   "metadata": {},
   "outputs": [],
   "source": [
    "# Split data into training and testing sets\n",
    "X_train_text, X_test_text, X_train_binary, X_test_binary, y_train, y_test = train_test_split(X_text, X_binary, y, test_size=0.2, train_size=0.8, random_state=42)"
   ]
  },
  {
   "cell_type": "code",
   "execution_count": 120,
   "id": "437a3e30",
   "metadata": {},
   "outputs": [
    {
     "name": "stdout",
     "output_type": "stream",
     "text": [
      "Accuracy of Predicting 'PHISH-GT' based on BOTH 'text' and 12 noisy labels: 0.97\n"
     ]
    }
   ],
   "source": [
    "# Vectorize the text data with TF-IDF\n",
    "vectorizer = TfidfVectorizer()\n",
    "X_train_text_tfidf = vectorizer.fit_transform(X_train_text)\n",
    "X_test_text_tfidf = vectorizer.transform(X_test_text)\n",
    "\n",
    "# Combine text TF-IDF features and binary features\n",
    "X_train_combined = hstack([X_train_text_tfidf, X_train_binary])\n",
    "X_test_combined = hstack([X_test_text_tfidf, X_test_binary])\n",
    "\n",
    "# Initialize and train the Logistic Regression model with combined data\n",
    "combined_model = LogisticRegression()\n",
    "combined_model.fit(X_train_combined, y_train)\n",
    "\n",
    "# Predict the test set results and calculate accuracy\n",
    "y_pred_combined = combined_model.predict(X_test_combined)\n",
    "accuracy_combined = accuracy_score(y_test, y_pred_combined)\n",
    "print(f\"Accuracy of Predicting 'PHISH-GT' based on BOTH 'text' and 12 noisy labels: {accuracy_combined:.2f}\")\n",
    "\n",
    "# Calculate precision and recall for the combined model\n",
    "precision_combined, recall_combined, _ = precision_recall_curve(y_test, combined_model.predict_proba(X_test_combined)[:, 1])\n",
    "pr_auc_combined = auc(recall_combined, precision_combined)"
   ]
  },
  {
   "cell_type": "code",
   "execution_count": 121,
   "id": "7b1a083d",
   "metadata": {},
   "outputs": [
    {
     "data": {
      "image/png": "[encoded data removed]",
      "text/plain": [
       "<Figure size 800x600 with 1 Axes>"
      ]
     },
     "metadata": {},
     "output_type": "display_data"
    }
   ],
   "source": [
    "# Plotting Precision-Recall curve\n",
    "plt.figure(figsize=(8, 6))\n",
    "\n",
    "# Plot for the text-based model\n",
    "plt.plot(recall_text, precision_text, color='blue', label='Based on Text Data')\n",
    "\n",
    "# Plot for the binary features model\n",
    "plt.plot(recall_binary, precision_binary, color='green', label='Based on Binary Features')\n",
    "\n",
    "# Plot for the combined features model\n",
    "plt.plot(recall_combined, precision_combined, color='red', label='Based on Combined Features')\n",
    "\n",
    "plt.xlabel('Recall')\n",
    "plt.ylabel('Precision')\n",
    "plt.title('Precision-Recall Curves Comparison')\n",
    "plt.legend(loc='best')\n",
    "plt.grid(True)\n",
    "plt.show()\n",
    "  \n"
   ]
  },
  {
   "cell_type": "code",
   "execution_count": null,
   "id": "67b16e18",
   "metadata": {},
   "outputs": [],
   "source": [
    "\n"
   ]
  },
  {
   "cell_type": "code",
   "execution_count": null,
   "id": "0d88085e",
   "metadata": {},
   "outputs": [],
   "source": []
  },
  {
   "cell_type": "code",
   "execution_count": null,
   "id": "aa3341f9",
   "metadata": {},
   "outputs": [],
   "source": []
  }
 ],
 "metadata": {
  "kernelspec": {
   "display_name": "Python 3 (ipykernel)",
   "language": "python",
   "name": "python3"
  },
  "language_info": {
   "codemirror_mode": {
    "name": "ipython",
    "version": 3
   },
   "file_extension": ".py",
   "mimetype": "text/x-python",
   "name": "python",
   "nbconvert_exporter": "python",
   "pygments_lexer": "ipython3",
   "version": "3.11.4"
  }
 },
 "nbformat": 4,
 "nbformat_minor": 5
}
